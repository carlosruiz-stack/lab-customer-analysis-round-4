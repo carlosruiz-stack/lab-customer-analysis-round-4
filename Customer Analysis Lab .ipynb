{
 "cells": [
  {
   "cell_type": "code",
   "execution_count": null,
   "id": "8562a99d",
   "metadata": {},
   "outputs": [],
   "source": [
    "import pandas as pd\n",
    "import numpy as np\n",
    "pd.set_option('display.max_columns', None)\n",
    "from scipy import stats\n",
    "import warnings\n",
    "warnings.filterwarnings('ignore')"
   ]
  },
  {
   "cell_type": "code",
   "execution_count": null,
   "id": "c2add6d2",
   "metadata": {},
   "outputs": [],
   "source": [
    "dataframe = pd.read_csv('Customer_Analysis_Lab_4.csv')\n",
    "dataframe "
   ]
  },
  {
   "cell_type": "code",
   "execution_count": null,
   "id": "78005875",
   "metadata": {},
   "outputs": [],
   "source": [
    "shape = dataframe.shape #to get the shape of the dataframe, rows and columns\n",
    "print(shape)"
   ]
  },
  {
   "cell_type": "code",
   "execution_count": null,
   "id": "e195c173",
   "metadata": {},
   "outputs": [],
   "source": [
    "dataframe.columns = dataframe.columns.str.upper()\n",
    "dataframe"
   ]
  },
  {
   "cell_type": "code",
   "execution_count": null,
   "id": "5734364d",
   "metadata": {},
   "outputs": [],
   "source": [
    "# Standardize header names in capital letters"
   ]
  },
  {
   "cell_type": "code",
   "execution_count": null,
   "id": "bb6ace25",
   "metadata": {},
   "outputs": [],
   "source": [
    "dataSet = dataframe.select_dtpyes(include='number')\n",
    "dataSet"
   ]
  },
  {
   "cell_type": "code",
   "execution_count": null,
   "id": "fc02cdb1",
   "metadata": {},
   "outputs": [],
   "source": [
    "#find the columns that are only numerical"
   ]
  },
  {
   "cell_type": "code",
   "execution_count": null,
   "id": "96195327",
   "metadata": {},
   "outputs": [],
   "source": [
    "dataSet = dataframe.select_dtpyes(include='category')\n",
    "dataSet"
   ]
  },
  {
   "cell_type": "code",
   "execution_count": null,
   "id": "43b94e24",
   "metadata": {},
   "outputs": [],
   "source": [
    "#find the columns that are only categorical"
   ]
  },
  {
   "cell_type": "code",
   "execution_count": 1,
   "id": "4c2cc468",
   "metadata": {},
   "outputs": [
    {
     "ename": "NameError",
     "evalue": "name 'dataframe' is not defined",
     "output_type": "error",
     "traceback": [
      "\u001b[1;31m---------------------------------------------------------------------------\u001b[0m",
      "\u001b[1;31mNameError\u001b[0m                                 Traceback (most recent call last)",
      "\u001b[1;32m~\\AppData\\Local\\Temp\\ipykernel_21688\\3575372531.py\u001b[0m in \u001b[0;36m<module>\u001b[1;34m\u001b[0m\n\u001b[1;32m----> 1\u001b[1;33m \u001b[0mdataSet\u001b[0m \u001b[1;33m=\u001b[0m \u001b[0mdataframe\u001b[0m\u001b[1;33m.\u001b[0m\u001b[0misnull\u001b[0m\u001b[1;33m(\u001b[0m\u001b[1;33m)\u001b[0m\u001b[1;33m.\u001b[0m\u001b[0mvalues\u001b[0m\u001b[1;33m.\u001b[0m\u001b[0many\u001b[0m\u001b[1;33m(\u001b[0m\u001b[1;33m)\u001b[0m\u001b[1;33m\u001b[0m\u001b[1;33m\u001b[0m\u001b[0m\n\u001b[0m\u001b[0;32m      2\u001b[0m \u001b[0mdataSet\u001b[0m\u001b[1;33m\u001b[0m\u001b[1;33m\u001b[0m\u001b[0m\n",
      "\u001b[1;31mNameError\u001b[0m: name 'dataframe' is not defined"
     ]
    }
   ],
   "source": [
    "dataSet = dataframe.isnull().values.any()\n",
    "dataSet"
   ]
  },
  {
   "cell_type": "code",
   "execution_count": null,
   "id": "2a932196",
   "metadata": {},
   "outputs": [],
   "source": [
    "#to find the NaN values"
   ]
  }
 ],
 "metadata": {
  "kernelspec": {
   "display_name": "Python 3 (ipykernel)",
   "language": "python",
   "name": "python3"
  },
  "language_info": {
   "codemirror_mode": {
    "name": "ipython",
    "version": 3
   },
   "file_extension": ".py",
   "mimetype": "text/x-python",
   "name": "python",
   "nbconvert_exporter": "python",
   "pygments_lexer": "ipython3",
   "version": "3.9.13"
  }
 },
 "nbformat": 4,
 "nbformat_minor": 5
}
